{
 "cells": [
  {
   "cell_type": "markdown",
   "metadata": {},
   "source": [
    "# Data structures"
   ]
  },
  {
   "cell_type": "markdown",
   "metadata": {},
   "source": [
    "In questa sezione ci focalizzeremo sulle *data structure* più comunemente utilizzate in Python e sulle loro proprietà principali. Queste strutture hanno in comune il fatto di essere \"contenitori\" di elementi, siano essi numeri, stringhe, o altri contenitori a loro volta. A seconda del tipo di contenitore, appunto di *data structure*, possiamo svolgere operazioni diverse con gli elementi al suo interno."
   ]
  },
  {
   "cell_type": "markdown",
   "metadata": {},
   "source": [
    "## List"
   ]
  },
  {
   "cell_type": "markdown",
   "metadata": {},
   "source": [
    "> **DOCSTRING**\n",
    ">\n",
    "> *Built-in mutable sequence*\n",
    ">\n",
    "> **METODI**\n",
    ">\n",
    ">`['__add__', '__class__', '__contains__', '__delattr__', '__delitem__', '__dir__', '__doc__', '__eq__', '__format__', '__ge__', '__getattribute__', '__getitem__', '__gt__', '__hash__', '__iadd__', '__imul__', '__init__', '__init_subclass__', '__iter__', '__le__', '__len__', '__lt__', '__mul__', '__ne__', '__new__', '__reduce__', '__reduce_ex__', '__repr__', '__reversed__', '__rmul__', '__setattr__', '__setitem__', '__sizeof__', '__str__', '__subclasshook__', 'append', 'clear', 'copy', 'count', 'extend', 'index', 'insert', 'pop', 'remove', 'reverse', 'sort']`\n",
    "\n",
    "La lista è la *data structure* forse più comune in Python, senz'altro quella con le proprietà più intuitive. E' riconoscibile perché gli elementi al suo interno sono delimitati da parentesi quadre."
   ]
  },
  {
   "cell_type": "code",
   "execution_count": 1,
   "metadata": {},
   "outputs": [
    {
     "name": "stdout",
     "output_type": "stream",
     "text": [
      "['Thor', 'Superman', 'Batman', 'Hulk', 'Iron Man']\n"
     ]
    }
   ],
   "source": [
    "list1 = ['Thor', 'Superman', 'Batman', 'Hulk', 'Iron Man']\n",
    "print(list1)"
   ]
  },
  {
   "cell_type": "markdown",
   "metadata": {},
   "source": [
    "Una lista è innanzitutto un ***iterable***, il che significa che possiamo utilizzarla all'interno di un loop."
   ]
  },
  {
   "cell_type": "code",
   "execution_count": 2,
   "metadata": {},
   "outputs": [
    {
     "name": "stdout",
     "output_type": "stream",
     "text": [
      "Thor\n",
      "Superman\n",
      "Batman\n",
      "Hulk\n",
      "Iron Man\n"
     ]
    }
   ],
   "source": [
    "for hero in list1:\n",
    "    print(hero)"
   ]
  },
  {
   "cell_type": "code",
   "execution_count": 3,
   "metadata": {},
   "outputs": [
    {
     "name": "stdout",
     "output_type": "stream",
     "text": [
      "Superman\n",
      "Batman\n",
      "Hulk\n",
      "\n",
      "\n",
      "Il valore della variabile \"counter\" alla fine del loop è 3\n"
     ]
    }
   ],
   "source": [
    "counter = 0\n",
    "while counter < 3:\n",
    "    counter += 1\n",
    "    print(list1[counter])\n",
    "\n",
    "print('\\n')\n",
    "print(f'Il valore della variabile \"counter\" alla fine del loop è {counter}')"
   ]
  },
  {
   "cell_type": "markdown",
   "metadata": {},
   "source": [
    "Una lista è una **sequenza**: questo termine in Python denota un *contenitore* caratterizzato da una sua lunghezza, che possiamo ottenere attraverso il metodo `__len__()`, e dal fatto che gli elementi al suo interno siano ordinati, ossia associati ad un indice."
   ]
  },
  {
   "cell_type": "code",
   "execution_count": 4,
   "metadata": {},
   "outputs": [
    {
     "name": "stdout",
     "output_type": "stream",
     "text": [
      "5\n"
     ]
    }
   ],
   "source": [
    "print(len(list1))"
   ]
  },
  {
   "cell_type": "markdown",
   "metadata": {},
   "source": [
    "La \"sequenzialità\" di una lista ci consente di accedere ai suoi elementi attraverso la loro posizione all'interno della lista stessa.\n",
    "\n",
    "> **DA RICORDARE**: PYTHON INIZIA A CONTARE DA 0, NON DA 1!"
   ]
  },
  {
   "cell_type": "code",
   "execution_count": 5,
   "metadata": {},
   "outputs": [
    {
     "name": "stdout",
     "output_type": "stream",
     "text": [
      "Thor\n",
      "Superman\n"
     ]
    }
   ],
   "source": [
    "print(list1[0])\n",
    "print(list1[1])"
   ]
  },
  {
   "cell_type": "markdown",
   "metadata": {},
   "source": [
    "Utilizzando le funzionalità di *slicing* di Python, possiamo accedere a elementi multipli all'interno di una lista.\n",
    "\n",
    "> **DA SAPERE**: Una *slice* di una lista è essa stessa una lista!"
   ]
  },
  {
   "cell_type": "code",
   "execution_count": 6,
   "metadata": {
    "scrolled": true
   },
   "outputs": [
    {
     "name": "stdout",
     "output_type": "stream",
     "text": [
      "['Batman', 'Hulk']\n",
      "['Thor', 'Superman', 'Batman']\n",
      "['Thor', 'Superman', 'Batman']\n",
      "['Batman', 'Hulk', 'Iron Man']\n"
     ]
    }
   ],
   "source": [
    "# dal secondo elemento al quarto\n",
    "print(list1[2:4])\n",
    "\n",
    "# i primi tre elementi\n",
    "print(list1[0:3])\n",
    "# oppure...\n",
    "print(list1[:3])\n",
    "\n",
    "# dal secondo elemento (incluso) fino all'ultimo\n",
    "print(list1[2:])"
   ]
  },
  {
   "cell_type": "markdown",
   "metadata": {},
   "source": [
    "Possiamo controllare se una lista contiene un determinato elemento utilizzando gli operatori `in` e `not in`."
   ]
  },
  {
   "cell_type": "code",
   "execution_count": 7,
   "metadata": {},
   "outputs": [
    {
     "name": "stdout",
     "output_type": "stream",
     "text": [
      "True\n"
     ]
    }
   ],
   "source": [
    "print('Thor' in list1)"
   ]
  },
  {
   "cell_type": "code",
   "execution_count": 8,
   "metadata": {},
   "outputs": [
    {
     "name": "stdout",
     "output_type": "stream",
     "text": [
      "False\n"
     ]
    }
   ],
   "source": [
    "print('Batman' not in list1)"
   ]
  },
  {
   "cell_type": "markdown",
   "metadata": {},
   "source": [
    "Possiamo utilizzare gli operatori `+` e `*` per creare nuove liste."
   ]
  },
  {
   "cell_type": "markdown",
   "metadata": {},
   "source": [
    "L'operatore `+` può essere utilizzato per concatenare due liste. Funziona solo se entrambi gli operandi sono liste."
   ]
  },
  {
   "cell_type": "code",
   "execution_count": 9,
   "metadata": {},
   "outputs": [
    {
     "name": "stdout",
     "output_type": "stream",
     "text": [
      "['Thor', 'Superman', 'Batman', 'Hulk', 'Iron Man', 'Ant-Man', 'Falcon']\n"
     ]
    }
   ],
   "source": [
    "list2 = ['Ant-Man', 'Falcon']\n",
    "\n",
    "print(list1 + list2)"
   ]
  },
  {
   "cell_type": "markdown",
   "metadata": {},
   "source": [
    "L'operatore `*` può essere utilizzato per duplicare i valori di una lista"
   ]
  },
  {
   "cell_type": "code",
   "execution_count": 10,
   "metadata": {},
   "outputs": [
    {
     "name": "stdout",
     "output_type": "stream",
     "text": [
      "['Thor', 'Superman', 'Batman', 'Hulk', 'Iron Man', 'Thor', 'Superman', 'Batman', 'Hulk', 'Iron Man', 'Thor', 'Superman', 'Batman', 'Hulk', 'Iron Man']\n"
     ]
    }
   ],
   "source": [
    "print(list1*3)"
   ]
  },
  {
   "cell_type": "markdown",
   "metadata": {},
   "source": [
    "Una proprietà che distingue la lista da altre *data structures* come la *tuple* è il fatto di essere mutabile (*mutable*). Questo significa che, una volta creata una lista, possiamo liberamente:\n",
    "* modificare gli elementi all'interno della lista;\n",
    "* aggiungere nuovi elementi alla lista;\n",
    "* rimuovere elementi dalla lista;\n",
    "\n",
    "Queste operazioni vengono effettuate attraverso metodi che non restituiscono nessun output, ma alterano permanentemente lo stato della lista sul quale sono invocati, come `append()`, `extend()` e `remove()`.\n",
    "\n",
    "> **DA SAPERE**: gli operatori `+` e `*` appena utilizzati non alterano permanentemente lo stato di una lista, ma restituiscono una nuova lista lasciando inalterati i loro input!"
   ]
  },
  {
   "cell_type": "code",
   "execution_count": 11,
   "metadata": {},
   "outputs": [
    {
     "name": "stdout",
     "output_type": "stream",
     "text": [
      "['Thor', 'Superman', 'Batman', 'Hulk', 'Iron Man']\n"
     ]
    }
   ],
   "source": [
    "print(list1) ##inalterata dalle operazioni svolte nelle due righe precedenti"
   ]
  },
  {
   "cell_type": "markdown",
   "metadata": {},
   "source": [
    "Per modificare un elemento in una lista basta accedere a quell'elemento attraverso il suo *index*, e assegnarvi un nuovo valore come faremmo per qualsiasi variabile."
   ]
  },
  {
   "cell_type": "code",
   "execution_count": 12,
   "metadata": {},
   "outputs": [
    {
     "name": "stdout",
     "output_type": "stream",
     "text": [
      "Old list1:\n",
      "['Thor', 'Superman', 'Batman', 'Hulk', 'Iron Man']\n",
      "\n",
      "\n",
      "New list1:\n",
      "['Thor', 'Superman', 'Batman', 'Howard the Duck', 'Iron Man']\n"
     ]
    }
   ],
   "source": [
    "print('Old list1:')\n",
    "print(list1)\n",
    "\n",
    "list1[3] = 'Howard the Duck'\n",
    "\n",
    "print('\\n')\n",
    "print('New list1:')\n",
    "print(list1)"
   ]
  },
  {
   "cell_type": "markdown",
   "metadata": {},
   "source": [
    "Esistono diversi modi attraverso cui aggiungere nuovi elementi ad una lista:"
   ]
  },
  {
   "cell_type": "markdown",
   "metadata": {},
   "source": [
    "1. Utilizzando il metodo `append()`, aggiungiamo un solo elemento in fondo alla lista."
   ]
  },
  {
   "cell_type": "code",
   "execution_count": 13,
   "metadata": {},
   "outputs": [],
   "source": [
    "list1.append('Doctor Strange') #nessun output!"
   ]
  },
  {
   "cell_type": "code",
   "execution_count": 14,
   "metadata": {},
   "outputs": [
    {
     "name": "stdout",
     "output_type": "stream",
     "text": [
      "['Thor', 'Superman', 'Batman', 'Howard the Duck', 'Iron Man', 'Doctor Strange']\n"
     ]
    }
   ],
   "source": [
    "print(list1)"
   ]
  },
  {
   "cell_type": "markdown",
   "metadata": {},
   "source": [
    "3. Il metodo `extend()` funziona in maniera simile all'operatore \"+\", ma anziché restituire un output modifica permanentemente la lista sulla quale è invocato"
   ]
  },
  {
   "cell_type": "code",
   "execution_count": 15,
   "metadata": {},
   "outputs": [],
   "source": [
    "list1.extend(list2) #nessun output"
   ]
  },
  {
   "cell_type": "code",
   "execution_count": 16,
   "metadata": {},
   "outputs": [
    {
     "name": "stdout",
     "output_type": "stream",
     "text": [
      "['Thor', 'Superman', 'Batman', 'Howard the Duck', 'Iron Man', 'Doctor Strange', 'Ant-Man', 'Falcon']\n"
     ]
    }
   ],
   "source": [
    "print(list1)"
   ]
  },
  {
   "cell_type": "markdown",
   "metadata": {},
   "source": [
    "Possiamo rimuovere permanentemente un elemento da una lista utilizzando il metodo `remove()`."
   ]
  },
  {
   "cell_type": "code",
   "execution_count": 17,
   "metadata": {},
   "outputs": [
    {
     "name": "stdout",
     "output_type": "stream",
     "text": [
      "['Thor', 'Superman', 'Batman', 'Iron Man', 'Doctor Strange', 'Ant-Man', 'Falcon']\n"
     ]
    }
   ],
   "source": [
    "list1.remove('Howard the Duck') #nessun output\n",
    "print(list1)"
   ]
  },
  {
   "cell_type": "markdown",
   "metadata": {},
   "source": [
    "Nel caso in cui ci siano due o più elementi identici all'interno di una lista, il metodo `remove()` rimuove soltanto il primo."
   ]
  },
  {
   "cell_type": "code",
   "execution_count": 18,
   "metadata": {},
   "outputs": [
    {
     "name": "stdout",
     "output_type": "stream",
     "text": [
      "[0, 0, 1, 1, 0, 0, 1]\n"
     ]
    }
   ],
   "source": [
    "ones_and_zeros = [1, 0, 0, 1, 1, 0, 0, 1]\n",
    "ones_and_zeros.remove(1)\n",
    "print(ones_and_zeros)"
   ]
  },
  {
   "cell_type": "markdown",
   "metadata": {},
   "source": [
    "Altri metodi utili di una lista sono:\n",
    "* `count(x)`: restituisce il numero di volte in cui l'elemento x compare all'interno di una lista;\n",
    "* `copy()`: restituisce una copia di una lista;\n",
    "* `sort()`: modifica permanentemente la lista, ordinandone gli elementi:\n",
    "    * in ordine crescente se numerici;\n",
    "    * in ordine alfabetico se caratteriali;\n",
    "* `reverse()`: modifica permanentemente una lista invertendo l'ordine dei suoi elementi;\n",
    "* `index(x)`: restituisce la posizione dell'elemento x all'interno di una lista (se x compare più volte, restituisce la posizione della prima *occurrence*);"
   ]
  },
  {
   "cell_type": "markdown",
   "metadata": {},
   "source": [
    "## Tuple"
   ]
  },
  {
   "cell_type": "markdown",
   "metadata": {},
   "source": [
    ">**DOCSTRING**\n",
    ">\n",
    ">*Built-in immutable sequence*\n",
    ">\n",
    ">**METODI**\n",
    ">\n",
    ">`['__add__', '__class__', '__contains__', '__delattr__', '__dir__', '__doc__', '__eq__', '__format__', '__ge__', '__getattribute__', '__getitem__', '__getnewargs__', '__gt__', '__hash__', '__init__', '__init_subclass__', '__iter__', '__le__', '__len__', '__lt__', '__mul__', '__ne__', '__new__', '__reduce__', '__reduce_ex__', '__repr__', '__rmul__', '__setattr__', '__sizeof__', '__str__', '__subclasshook__', 'count', 'index']`\n",
    "\n",
    "Una *tuple* è un contenitore **immutabile**. Una volta creata, non possiamo alterare il suo stato come per una lista. Dando uno sguardo all'elenco dei metodi, non troviamo infatti metodi come `append()` e `extend()` che, in una lista, modificano permanentemente lo stato dell'oggetto.\n",
    "\n",
    "Gli elementi all'interno di una *tuple* sono delimitati da parentesi tonde."
   ]
  },
  {
   "cell_type": "code",
   "execution_count": 19,
   "metadata": {},
   "outputs": [
    {
     "name": "stdout",
     "output_type": "stream",
     "text": [
      "('Thor', 'Superman', 'Batman', 'Hulk', 'Iron Man')\n"
     ]
    }
   ],
   "source": [
    "tuple1 = ('Thor', 'Superman', 'Batman', 'Hulk', 'Iron Man')\n",
    "print(tuple1)"
   ]
  },
  {
   "cell_type": "markdown",
   "metadata": {},
   "source": [
    "Come una lista, anche una *tuple* è un *iterable* e una sequenza. Possiamo quindi:\n",
    "* utilizzarla in un loop;\n",
    "* determinare la sua lunghezza attraverso il metodo `__len__`;\n",
    "* accedere ai suoi elementi attraverso la loro posizione."
   ]
  },
  {
   "cell_type": "code",
   "execution_count": 20,
   "metadata": {},
   "outputs": [
    {
     "name": "stdout",
     "output_type": "stream",
     "text": [
      "Thor\n",
      "Superman\n",
      "Batman\n",
      "Hulk\n",
      "Iron Man\n"
     ]
    }
   ],
   "source": [
    "for item in tuple1:\n",
    "    print(item)"
   ]
  },
  {
   "cell_type": "code",
   "execution_count": 21,
   "metadata": {},
   "outputs": [
    {
     "name": "stdout",
     "output_type": "stream",
     "text": [
      "5\n"
     ]
    }
   ],
   "source": [
    "print(len(tuple1))"
   ]
  },
  {
   "cell_type": "code",
   "execution_count": 22,
   "metadata": {},
   "outputs": [
    {
     "name": "stdout",
     "output_type": "stream",
     "text": [
      "Thor\n"
     ]
    }
   ],
   "source": [
    "print(tuple1[0])"
   ]
  },
  {
   "cell_type": "code",
   "execution_count": 23,
   "metadata": {},
   "outputs": [
    {
     "name": "stdout",
     "output_type": "stream",
     "text": [
      "('Batman', 'Hulk')\n"
     ]
    }
   ],
   "source": [
    "print(tuple1[2:4])"
   ]
  },
  {
   "cell_type": "markdown",
   "metadata": {},
   "source": [
    "Non possiamo tuttavia modificare gli elementi di una *tuple* come potremmo fare in una lista."
   ]
  },
  {
   "cell_type": "code",
   "execution_count": 24,
   "metadata": {},
   "outputs": [
    {
     "name": "stdout",
     "output_type": "stream",
     "text": [
      "'tuple' object does not support item assignment\n"
     ]
    }
   ],
   "source": [
    "try:\n",
    "    tuple1[0] = 'Nick Fury'\n",
    "except TypeError as error:\n",
    "    print(error)"
   ]
  },
  {
   "cell_type": "markdown",
   "metadata": {},
   "source": [
    "Possiamo utilizzare gli operatori `+` e `*` per ottenere nuove tuple. Il loro funzionamento è identico a quello illustrato per le liste."
   ]
  },
  {
   "cell_type": "markdown",
   "metadata": {},
   "source": [
    "## Set"
   ]
  },
  {
   "cell_type": "markdown",
   "metadata": {},
   "source": [
    ">**DOCSTRING**\n",
    ">\n",
    ">*Build an unordered collection of unique elements*\n",
    ">\n",
    ">**METODI**\n",
    ">\n",
    ">`['__and__', '__class__', '__contains__', '__delattr__', '__dir__', '__doc__', '__eq__', '__format__', '__ge__', '__getattribute__', '__gt__', '__hash__', '__iand__', '__init__', '__init_subclass__', '__ior__', '__isub__', '__iter__', '__ixor__', '__le__', '__len__', '__lt__', '__ne__', '__new__', '__or__', '__rand__', '__reduce__', '__reduce_ex__', '__repr__', '__ror__', '__rsub__', '__rxor__', '__setattr__', '__sizeof__', '__str__', '__sub__', '__subclasshook__', '__xor__', 'add', 'clear', 'copy', 'difference', 'difference_update', 'discard', 'intersection', 'intersection_update', 'isdisjoint', 'issubset', 'issuperset', 'pop', 'remove', 'symmetric_difference', 'symmetric_difference_update', 'union', 'update']`\n",
    "\n",
    "Un *set* è un \"contenitore\" di elementi che non si ripetono mai (\"*unique elements*\") e non sono accessibili attraverso la loro posizione (\"*unordered*\").\n",
    "\n",
    "Gli elementi all'interno di un *set* sono delimitati da parentesi graffe."
   ]
  },
  {
   "cell_type": "code",
   "execution_count": 25,
   "metadata": {},
   "outputs": [],
   "source": [
    "set1 = {'Thor', 'Hulk', 'Iron Man'}"
   ]
  },
  {
   "cell_type": "markdown",
   "metadata": {},
   "source": [
    "Come una lista e una *tuple*, è un *iterable*, e può essere quindi utilizzato in un loop."
   ]
  },
  {
   "cell_type": "code",
   "execution_count": 26,
   "metadata": {},
   "outputs": [
    {
     "name": "stdout",
     "output_type": "stream",
     "text": [
      "Thor\n",
      "Iron Man\n",
      "Hulk\n"
     ]
    }
   ],
   "source": [
    "for item in set1:\n",
    "    print(item)"
   ]
  },
  {
   "cell_type": "markdown",
   "metadata": {},
   "source": [
    "A differenza di liste e *tuple* però, un *set* non è una sequenza, quindi non possiamo accedere ai suoi elementi attraverso la loro posizione."
   ]
  },
  {
   "cell_type": "code",
   "execution_count": 27,
   "metadata": {},
   "outputs": [
    {
     "name": "stdout",
     "output_type": "stream",
     "text": [
      "'set' object is not subscriptable\n"
     ]
    }
   ],
   "source": [
    "try:\n",
    "    print(set1[0])\n",
    "except TypeError as error:\n",
    "    print(error)"
   ]
  },
  {
   "cell_type": "markdown",
   "metadata": {},
   "source": [
    "Il fatto che gli elementi al'interno di un *set* non possano ripetersi e non abbiano un ordine rispecchia la nozione matematica di insieme (*set* appunto).\n",
    "\n",
    "Non a caso infatti, il *set* è caratterizzato da una serie di metodi che replicano le operazioni caratteristiche degli insiemi (intersezione, unione, etc.)."
   ]
  },
  {
   "cell_type": "code",
   "execution_count": 28,
   "metadata": {},
   "outputs": [],
   "source": [
    "numbers1 = {1, 2, 3, 4, 5}\n",
    "numbers2 = {4, 5, 6, 7, 8}"
   ]
  },
  {
   "cell_type": "code",
   "execution_count": 29,
   "metadata": {},
   "outputs": [
    {
     "name": "stdout",
     "output_type": "stream",
     "text": [
      "Intersezione: {4, 5}\n",
      "\n",
      "\n",
      "Unione: {1, 2, 3, 4, 5, 6, 7, 8}\n"
     ]
    }
   ],
   "source": [
    "intersection = numbers1 & numbers2\n",
    "union = numbers1 | numbers2\n",
    "\n",
    "\n",
    "print(f'Intersezione: {intersection}')\n",
    "print('\\n')\n",
    "print(f'Unione: {union}')"
   ]
  },
  {
   "cell_type": "markdown",
   "metadata": {},
   "source": [
    "Possiamo anche verificare se un *set* è un sottoinsieme di un altro e viceversa."
   ]
  },
  {
   "cell_type": "code",
   "execution_count": 30,
   "metadata": {},
   "outputs": [
    {
     "name": "stdout",
     "output_type": "stream",
     "text": [
      "True\n",
      "True\n",
      "False\n"
     ]
    }
   ],
   "source": [
    "numbers3 = {3, 4}\n",
    "\n",
    "print(numbers3.issubset(numbers1))\n",
    "print(numbers1.issuperset(numbers3))\n",
    "print(numbers3.issubset(numbers2))"
   ]
  },
  {
   "cell_type": "markdown",
   "metadata": {},
   "source": [
    "Possiamo utilizzare le proprietà di *set* anche per ottenere il numero di elementi distinti all'interno di una lista o di una *tuple*.\n",
    "\n",
    "> **DA RICORDARE**: gli elementi all'interno di un *set* non si ripetono mai!"
   ]
  },
  {
   "cell_type": "code",
   "execution_count": 31,
   "metadata": {},
   "outputs": [
    {
     "name": "stdout",
     "output_type": "stream",
     "text": [
      "{0, 1, 2}\n"
     ]
    }
   ],
   "source": [
    "numbers_list = [1, 0, 1, 2, 1, 0, 2, 2, 0, 1, 2]\n",
    "numbers_set = set(numbers_list)\n",
    "print(numbers_set)"
   ]
  },
  {
   "cell_type": "markdown",
   "metadata": {},
   "source": [
    "In pratica, stiamo convertendo una lista in un *set* e, così facendo, otteniamo il numero di elementi distinti all'interno di quella lista. Se volessimo poi lavorare con quell'insieme sottoforma di lista potremmo riconvertirlo in una lista."
   ]
  },
  {
   "cell_type": "code",
   "execution_count": 32,
   "metadata": {},
   "outputs": [
    {
     "name": "stdout",
     "output_type": "stream",
     "text": [
      "[0, 1, 2]\n"
     ]
    }
   ],
   "source": [
    "numbers_distinct_list = list(numbers_set)\n",
    "print(numbers_distinct_list)"
   ]
  },
  {
   "cell_type": "markdown",
   "metadata": {},
   "source": [
    "## Dict"
   ]
  },
  {
   "cell_type": "markdown",
   "metadata": {},
   "source": [
    ">**DOCSTRING**\n",
    ">\n",
    ">Non molto d'aiuto...\n",
    ">\n",
    ">**METODI**\n",
    ">\n",
    ">`['__class__', '__contains__', '__delattr__', '__delitem__', '__dir__', '__doc__', '__eq__', '__format__', '__ge__', '__getattribute__', '__getitem__', '__gt__', '__hash__', '__init__', '__init_subclass__', '__iter__', '__le__', '__len__', '__lt__', '__ne__', '__new__', '__reduce__', '__reduce_ex__', '__repr__', '__reversed__', '__setattr__', '__setitem__', '__sizeof__', '__str__', '__subclasshook__', 'clear', 'copy', 'fromkeys', 'get', 'items', 'keys', 'pop', 'popitem', 'setdefault', 'update', 'values']`\n",
    "\n",
    "Il *dictionary*, o dizionario, è un contenitore mutabile i cui valori sono accessibili non mediante la loro posizione, come in una lista, ma mediante specifiche chiavi univoche (*keys*) specificate dall'utente. In questo senso, un dizionario è un contenitore di di coppie *key*-*value*.\n",
    "\n",
    "Come per *set*, gli elementi di un dizionario sono delimitati da parentesi graffe, ma gli elementi al suo interno sono caratterizzati dalla struttura `key : value`.\n",
    "\n",
    "> **DA SAPERE**: sia *set* che *dict* sono delimitati da parentesi graffe, ma se inizializziamo un contenitore vuoto con il codice `container = {}`, `container` sarà di tipo *dict*, non *set*."
   ]
  },
  {
   "cell_type": "code",
   "execution_count": 33,
   "metadata": {},
   "outputs": [],
   "source": [
    "dict1 = {'Superhero name' : 'Iron Man',\n",
    "         'Superpowers' : ['Genius', 'Billionaire', 'Playboy', 'Philanthropist'],\n",
    "         'Real name' : 'Tony Stark',\n",
    "         'Affiliation' : 'Avengers'\n",
    "        }"
   ]
  },
  {
   "cell_type": "markdown",
   "metadata": {},
   "source": [
    "Una volta creato, possiamo accedere ai valori all'interno di un dizionario attraverso le *key*. Per questo motivo, le *key* sono degli identificativi univoci, che possono essere stringhe, numeri o altri *type* immutabili."
   ]
  },
  {
   "cell_type": "code",
   "execution_count": 34,
   "metadata": {},
   "outputs": [
    {
     "name": "stdout",
     "output_type": "stream",
     "text": [
      "Il vero nome di Iron Man è Tony Stark\n"
     ]
    }
   ],
   "source": [
    "hero_name = dict1['Superhero name']\n",
    "real_name = dict1['Real name']\n",
    "\n",
    "print(f'Il vero nome di {hero_name} è {real_name}')"
   ]
  },
  {
   "cell_type": "markdown",
   "metadata": {},
   "source": [
    "Possiamo in un certo senso (**MA NON DITELO TROPPO IN GIRO**) pensare ad una lista come un dizionario in cui le *key*, le chiavi di accesso agli elementi, sono pre-determinate e corrispondono alla posizione di ogni elemento all'interno della lista."
   ]
  },
  {
   "cell_type": "code",
   "execution_count": 35,
   "metadata": {},
   "outputs": [
    {
     "name": "stdout",
     "output_type": "stream",
     "text": [
      "Thor\n"
     ]
    }
   ],
   "source": [
    "list1_dict = {0 : 'Thor', 1 : 'Superman', 2 : 'Batman', 3 : 'Hulk', 4 : 'Iron Man'}\n",
    "print(list1_dict[0])"
   ]
  },
  {
   "cell_type": "markdown",
   "metadata": {},
   "source": [
    "Il dizionario ha diversi metodi attraverso i quali possiamo accedere alle *key* e ai valori ad esse associati.\n",
    "\n",
    "Il metodo `keys()` restituisce le chiavi del dizionario:"
   ]
  },
  {
   "cell_type": "code",
   "execution_count": 36,
   "metadata": {},
   "outputs": [
    {
     "name": "stdout",
     "output_type": "stream",
     "text": [
      "dict_keys(['Superhero name', 'Superpowers', 'Real name', 'Affiliation'])\n"
     ]
    }
   ],
   "source": [
    "print(dict1.keys())"
   ]
  },
  {
   "cell_type": "markdown",
   "metadata": {},
   "source": [
    "Il metodo `values()` restituisce i valori sottostanti senza che siano associati alle *key*."
   ]
  },
  {
   "cell_type": "code",
   "execution_count": 37,
   "metadata": {},
   "outputs": [
    {
     "name": "stdout",
     "output_type": "stream",
     "text": [
      "dict_values(['Iron Man', ['Genius', 'Billionaire', 'Playboy', 'Philanthropist'], 'Tony Stark', 'Avengers'])\n"
     ]
    }
   ],
   "source": [
    "print(dict1.values())"
   ]
  },
  {
   "cell_type": "markdown",
   "metadata": {},
   "source": [
    "Come le liste o le *tuple*, anche un dizionario è un *iterable*. Se però utilizziamo un dizionario in un loop come faremmo per una lista, il loop considererà solo le *key* del dizionario."
   ]
  },
  {
   "cell_type": "code",
   "execution_count": 38,
   "metadata": {},
   "outputs": [
    {
     "name": "stdout",
     "output_type": "stream",
     "text": [
      "Superhero name\n",
      "Superpowers\n",
      "Real name\n",
      "Affiliation\n"
     ]
    }
   ],
   "source": [
    "for feature in dict1:\n",
    "    print(feature)"
   ]
  },
  {
   "cell_type": "markdown",
   "metadata": {},
   "source": [
    "Per accedere ai valori di un dizionario possiamo utilizzare il metodo `values()` nel loop:"
   ]
  },
  {
   "cell_type": "code",
   "execution_count": 39,
   "metadata": {},
   "outputs": [
    {
     "name": "stdout",
     "output_type": "stream",
     "text": [
      "Iron Man\n",
      "['Genius', 'Billionaire', 'Playboy', 'Philanthropist']\n",
      "Tony Stark\n",
      "Avengers\n"
     ]
    }
   ],
   "source": [
    "for feature in dict1.values():\n",
    "    print(feature)"
   ]
  },
  {
   "cell_type": "markdown",
   "metadata": {},
   "source": [
    "La cosa più conveniente e ***pythonic*** è utilizzare il metodo `items()` di un dizionario per accedere simultaneamente alle *key* e ai valori associati."
   ]
  },
  {
   "cell_type": "code",
   "execution_count": 40,
   "metadata": {},
   "outputs": [
    {
     "name": "stdout",
     "output_type": "stream",
     "text": [
      "Superhero name -> Iron Man\n",
      "Superpowers -> ['Genius', 'Billionaire', 'Playboy', 'Philanthropist']\n",
      "Real name -> Tony Stark\n",
      "Affiliation -> Avengers\n"
     ]
    }
   ],
   "source": [
    "for key, value in dict1.items():\n",
    "    print(f'{key} -> {value}')"
   ]
  },
  {
   "cell_type": "markdown",
   "metadata": {},
   "source": [
    "Come una lista, un dizionario è una *data structure* mutabile. Possiamo pertanto alterarne permanentemente lo stato in maniera simile a come abbiamo fatto con le liste.\n",
    "\n",
    "Allo stesso modo in cui possiamo accedere al valore associato ad una *key*, possiamo anche modificarlo."
   ]
  },
  {
   "cell_type": "code",
   "execution_count": 41,
   "metadata": {},
   "outputs": [
    {
     "name": "stdout",
     "output_type": "stream",
     "text": [
      "{'Superhero name': 'Iron Man', 'Superpowers': ['Genius', 'Billionaire', 'Playboy', 'Philanthropist'], 'Real name': 'Tony Stark', 'Affiliation': 'New Avengers'}\n"
     ]
    }
   ],
   "source": [
    "dict1['Affiliation'] = 'New Avengers'\n",
    "\n",
    "print(dict1)"
   ]
  },
  {
   "cell_type": "markdown",
   "metadata": {},
   "source": [
    "Possiamo aggiungere una o più coppie *key*-*value* ad un dizionario utilizzando il metodo `update()`.\n",
    "\n",
    ">**DA SAPERE**: Il metodo `update()` prende come input soltanto un altro dizionario."
   ]
  },
  {
   "cell_type": "code",
   "execution_count": 42,
   "metadata": {},
   "outputs": [
    {
     "name": "stdout",
     "output_type": "stream",
     "text": [
      "{'Superhero name': 'Iron Man', 'Superpowers': ['Genius', 'Billionaire', 'Playboy', 'Philanthropist'], 'Real name': 'Tony Stark', 'Affiliation': 'New Avengers', 'Colors': ['Red', 'Gold']}\n"
     ]
    }
   ],
   "source": [
    "dict1.update({'Colors' : ['Red', 'Gold']}) #nessun output!\n",
    "print(dict1)"
   ]
  },
  {
   "cell_type": "markdown",
   "metadata": {},
   "source": [
    "Se specifichiamo una chiave già esistente nel dizionario che vogliamo \"aggiornare\", il metodo `update()` modificherà il valore corrispondente a quella chiave."
   ]
  },
  {
   "cell_type": "code",
   "execution_count": 43,
   "metadata": {},
   "outputs": [
    {
     "name": "stdout",
     "output_type": "stream",
     "text": [
      "{'Superhero name': 'Iron Man', 'Superpowers': ['Genius', 'Billionaire', 'Playboy', 'Philanthropist'], 'Real name': 'Luca Dann', 'Affiliation': 'New Avengers', 'Colors': ['Red', 'Gold']}\n"
     ]
    }
   ],
   "source": [
    "dict1.update({'Real name' : 'Luca Dann'})\n",
    "\n",
    "print(dict1)"
   ]
  },
  {
   "cell_type": "markdown",
   "metadata": {},
   "source": [
    "Per rimuovere un elemento da un dizionario possiamo utilizzare il metodo `pop()` specificando la *key* dell'elemento che vogliamo rimuovere. Come per una lista, il metodo `pop()` restituisce il valore che vogliamo rimuovere dopo averlo rimosso permanentemente dal dizionario, consentendoci di tenere salvato quel valore in una variabile."
   ]
  },
  {
   "cell_type": "code",
   "execution_count": 44,
   "metadata": {},
   "outputs": [
    {
     "name": "stdout",
     "output_type": "stream",
     "text": [
      "{'Superhero name': 'Iron Man', 'Real name': 'Luca Dann', 'Affiliation': 'New Avengers', 'Colors': ['Red', 'Gold']}\n",
      "\n",
      "\n",
      "['Genius', 'Billionaire', 'Playboy', 'Philanthropist']\n"
     ]
    }
   ],
   "source": [
    "superpowers = dict1.pop('Superpowers')\n",
    "print(dict1)\n",
    "print('\\n')\n",
    "print(superpowers)"
   ]
  },
  {
   "cell_type": "markdown",
   "metadata": {},
   "source": [
    "Nelle prossime sezioni esploreremo due costrutti tipici di Python che ci permettono di svolgere più velocemente operazioni con le *data structure* appena descritte e di rendere il nostro codice più leggibile."
   ]
  },
  {
   "cell_type": "markdown",
   "metadata": {},
   "source": [
    "## *Unpacking*"
   ]
  },
  {
   "cell_type": "markdown",
   "metadata": {},
   "source": [
    ">verb: **unpack**; 3rd person present: **unpacks**; past tense: **unpacked**; past participle: **unpacked**; gerund or present participle: **unpacking**\n",
    ">\n",
    "> **open and remove the contents of (a suitcase, bag, or package)**: \"*she unpacked her bags and put everything away*\""
   ]
  },
  {
   "cell_type": "markdown",
   "metadata": {},
   "source": [
    "Python consente di \"disfare\" una *data structure* come fosse una valigia e assegnare simultaneamente i suoi valori ad altrettante variabili."
   ]
  },
  {
   "cell_type": "code",
   "execution_count": 45,
   "metadata": {},
   "outputs": [
    {
     "name": "stdout",
     "output_type": "stream",
     "text": [
      "Wolverine\n",
      "Magneto\n"
     ]
    }
   ],
   "source": [
    "var1, var2 = ('Wolverine', 'Magneto') #utilizziamo una tuple ma andrebbe bene anche una lista\n",
    "\n",
    "print(var1)\n",
    "print(var2)"
   ]
  },
  {
   "cell_type": "markdown",
   "metadata": {},
   "source": [
    "Perché l'assegnazione funzioni, dobbiamo far sì che il numero di variabili a sinistra dell'*assignment operator* (`=`) corrisponda al numero di elementi della data structure sulla destra."
   ]
  },
  {
   "cell_type": "code",
   "execution_count": 46,
   "metadata": {},
   "outputs": [
    {
     "name": "stdout",
     "output_type": "stream",
     "text": [
      "too many values to unpack (expected 2)\n"
     ]
    }
   ],
   "source": [
    "x_men = ('Wolverine', 'Magneto', 'Cyclops', 'Phoenix')\n",
    "\n",
    "try:\n",
    "    var1, var2 = x_men\n",
    "except ValueError as error:\n",
    "    print(error)"
   ]
  },
  {
   "cell_type": "markdown",
   "metadata": {},
   "source": [
    "Se abbiamo meno variabili che elementi nella *tuple*, possiamo specificare una variabile aggiuntiva e utilizzare il prefisso `*` per indicare che vogliamo assegnare i restanti elementi della *tuple* a quella variabile:"
   ]
  },
  {
   "cell_type": "code",
   "execution_count": 47,
   "metadata": {},
   "outputs": [],
   "source": [
    "var1, var2, *_ = x_men # l'underscore si utilizza convenzionalmente per indicare che quei valori non ci interessano"
   ]
  },
  {
   "cell_type": "code",
   "execution_count": 48,
   "metadata": {},
   "outputs": [
    {
     "name": "stdout",
     "output_type": "stream",
     "text": [
      "Wolverine\n",
      "Magneto\n",
      "['Cyclops', 'Phoenix']\n"
     ]
    }
   ],
   "source": [
    "print(var1)\n",
    "print(var2)\n",
    "print(_)"
   ]
  },
  {
   "cell_type": "markdown",
   "metadata": {},
   "source": [
    "L'applicazione più utile dell'unpacking è all'interno di un loop. Supponiamo di avere una *tuple* come quella mostrata sotto."
   ]
  },
  {
   "cell_type": "code",
   "execution_count": 49,
   "metadata": {},
   "outputs": [],
   "source": [
    "names_mapping = (('Peter Parker', 'Spiderman'), ('Tony Stark', 'Iron Man'), ('Matt Murdoch', 'Daredevil'))"
   ]
  },
  {
   "cell_type": "markdown",
   "metadata": {},
   "source": [
    "Supponiamo di voler utilizzare un loop per associare ad ogni supereroe la sua identità segreta. Potremmo farlo con un normale loop in questo modo:"
   ]
  },
  {
   "cell_type": "code",
   "execution_count": 50,
   "metadata": {},
   "outputs": [
    {
     "name": "stdout",
     "output_type": "stream",
     "text": [
      "element = ('Peter Parker', 'Spiderman')\n",
      "Il vero nome di Spiderman è Peter Parker\n",
      "\n",
      "element = ('Tony Stark', 'Iron Man')\n",
      "Il vero nome di Iron Man è Tony Stark\n",
      "\n",
      "element = ('Matt Murdoch', 'Daredevil')\n",
      "Il vero nome di Daredevil è Matt Murdoch\n",
      "\n"
     ]
    }
   ],
   "source": [
    "for element in names_mapping:\n",
    "    print(f'element = {element}')\n",
    "    real_name = element[0]\n",
    "    hero_name = element[1]\n",
    "    print(f'Il vero nome di {hero_name} è {real_name}\\n')"
   ]
  },
  {
   "cell_type": "markdown",
   "metadata": {},
   "source": [
    "Utilizzando l'*unpacking* possiamo accedere direttamente ai singoli elementi di ogni \"sotto-*tuple*\" al momento dell'invocazione del loop."
   ]
  },
  {
   "cell_type": "code",
   "execution_count": 51,
   "metadata": {},
   "outputs": [
    {
     "name": "stdout",
     "output_type": "stream",
     "text": [
      "Il vero nome di Spiderman è Peter Parker\n",
      "Il vero nome di Iron Man è Tony Stark\n",
      "Il vero nome di Daredevil è Matt Murdoch\n"
     ]
    }
   ],
   "source": [
    "for real_name, hero_name in names_mapping:\n",
    "    print(f'Il vero nome di {hero_name} è {real_name}')"
   ]
  },
  {
   "cell_type": "markdown",
   "metadata": {},
   "source": [
    "Utilizzando due identificativi all'inizio del loop (`real_name` e `hero_name`) ancziché uno solo, stiamo dicendo a Python che vogliamo accedere ai singoli elementi delle \"coppie\" all'interno della *tuple* su cui stiamo iterando. Anche in questo caso, il numero di identificativi (variabili) deve corrispondere al numero di elementi all'interno della *tuple* su cui effettuiamo l'*unpacking* (in questo caso, 2)."
   ]
  },
  {
   "cell_type": "markdown",
   "metadata": {},
   "source": [
    "Nella pratica, sarà difficile avere *pret a porter* una *tuple* già arrangiata come `names_mapping`. Più probabilmente ci capiterà di voler combinare fra loro gli elementi di due liste (o *tuple*) come quelle mostrate sotto."
   ]
  },
  {
   "cell_type": "code",
   "execution_count": 52,
   "metadata": {},
   "outputs": [],
   "source": [
    "real_names = ['Peter Parker', 'Tony Stark', 'Matt Murdoch']\n",
    "hero_names = ['Spiderman', 'Iron Man', 'Daredevil']"
   ]
  },
  {
   "cell_type": "markdown",
   "metadata": {},
   "source": [
    "In questo caso, possiamo utilizzare la funzione `zip()` per combinare le due liste ed ottenere lo stesso risultato che avevamo ottenuto con la *tuple* `names_mapping`."
   ]
  },
  {
   "cell_type": "code",
   "execution_count": 53,
   "metadata": {},
   "outputs": [
    {
     "name": "stdout",
     "output_type": "stream",
     "text": [
      "Il vero nome di Spiderman è Peter Parker\n",
      "Il vero nome di Iron Man è Tony Stark\n",
      "Il vero nome di Daredevil è Matt Murdoch\n"
     ]
    }
   ],
   "source": [
    "for hero_name, real_name in zip(hero_names, real_names):\n",
    "    print(f'Il vero nome di {hero_name} è {real_name}')"
   ]
  },
  {
   "cell_type": "markdown",
   "metadata": {},
   "source": [
    "La funzione `zip()` \"accoppia\" gli elementi delle due liste e produce un *iterable* simile alla *tuple* `names_mapping` vista negli esempi precedenti, su cui possiamo effettuare l'*unpacking*.\n",
    "\n",
    "Possiamo dare in input un qualsiasi numero di liste alla funzione `zip()`, purché all'interno del loop specifichiamo altrettanti identificativi. Se le liste da \"zippare\" sono di lunghezza diversa, `zip()` si fermerà una volta esauriti gli elementi della lista più corta."
   ]
  },
  {
   "cell_type": "code",
   "execution_count": 54,
   "metadata": {},
   "outputs": [
    {
     "name": "stdout",
     "output_type": "stream",
     "text": [
      "Spiderman è un membro degli Avengers e il suo vero nome è True\n",
      "Iron Man è un membro degli Avengers e il suo vero nome è True\n",
      "Daredevil non è un membro degli Avengers e il suo vero nome è False\n"
     ]
    }
   ],
   "source": [
    "avenger = [True, True, False, True, False]\n",
    "\n",
    "for hero_name, is_avenger, real_name in zip(hero_names, avenger, avenger):\n",
    "    print(f'{hero_name} {\"è\" if is_avenger else \"non è\"} un membro degli Avengers e il suo vero nome è {real_name}')"
   ]
  },
  {
   "cell_type": "markdown",
   "metadata": {},
   "source": [
    "L'*unpacking* è utile anche nel caso in cui vogliamo includere un contatore all'interno di un loop.\n",
    "\n",
    "> **DA SAPERE**: `enumerate()` associa automaticamente un contatore ad ogni elemento di una lista."
   ]
  },
  {
   "cell_type": "code",
   "execution_count": 55,
   "metadata": {},
   "outputs": [
    {
     "name": "stdout",
     "output_type": "stream",
     "text": [
      "[0, 3, 5, 6, 7, 12]\n"
     ]
    }
   ],
   "source": [
    "boolean_list = [1, 0, 0, 1, 0, 1, 1, 1, 0, 0, 0, 0, 1]\n",
    "\n",
    "ones_index = []\n",
    "for i, element in enumerate(boolean_list):\n",
    "    if element == 1:\n",
    "        ones_index.append(i)\n",
    "\n",
    "print(ones_index)"
   ]
  },
  {
   "cell_type": "markdown",
   "metadata": {},
   "source": [
    "## *Comprehensions*"
   ]
  },
  {
   "cell_type": "markdown",
   "metadata": {},
   "source": [
    "Uno degli strumenti più potenti che Python ci offre è quello delle *comprehension*. Una *comprehension* ci consente di creare una lista. *set* o un dizionario con un loop in maniera più efficiente e leggibile."
   ]
  },
  {
   "cell_type": "markdown",
   "metadata": {},
   "source": [
    "Supponiamo di avere una lista di numeri e di voler ottenere una lista contenente il quadrato di ciascun numero. Con un normale *for loop* potremmo farlo in questo modo:"
   ]
  },
  {
   "cell_type": "code",
   "execution_count": 56,
   "metadata": {},
   "outputs": [
    {
     "name": "stdout",
     "output_type": "stream",
     "text": [
      "[36, 9, 225, 4, 1, 49, 81, 529, 144]\n"
     ]
    }
   ],
   "source": [
    "numbers = [6, 3, 15, 2, 1, 7, 9, 23, 12]\n",
    "\n",
    "# creiamo lista vuota da popolare ad ogni iterazione del loop\n",
    "numbers_squared = []\n",
    "\n",
    "# popoliamo lista\n",
    "for number in numbers:\n",
    "    number_squared = number**2\n",
    "    numbers_squared.append(number_squared)\n",
    "\n",
    "print(numbers_squared)"
   ]
  },
  {
   "cell_type": "markdown",
   "metadata": {},
   "source": [
    "Utilizzando una *list comprehension* possiamo svolgere la stessa operazione in una riga di codice."
   ]
  },
  {
   "cell_type": "code",
   "execution_count": 57,
   "metadata": {},
   "outputs": [
    {
     "name": "stdout",
     "output_type": "stream",
     "text": [
      "[36, 9, 225, 4, 1, 49, 81, 529, 144]\n"
     ]
    }
   ],
   "source": [
    "numbers_squared = [number**2 for number in numbers]\n",
    "\n",
    "print(numbers_squared)"
   ]
  },
  {
   "cell_type": "markdown",
   "metadata": {},
   "source": [
    "Oltre all'efficienza, il vantaggio di utilizzare una *list comprehension* è che, nella maggior parte dei casi, la sua sintassi è più leggibile di quella di un normale *for loop*. Infatti, la *list comprehension* creata sopra corrisponde quasi perfettamente a come esprimeremmo lo stesso concetto in inglese:\n",
    "\n",
    "> \"*the square of each number in the numbers list*\"\n",
    "\n",
    "> **DA RICORDARE**: uno dei vantaggi fondamentali di Python rispetto ad altri linguaggi di programmazione è la sua leggibilità e la sua somiglianza con la lingua inglese. Quindi, se esistono diversi modi per fare la stessa cosa, il 99% delle volte la scelta più *pythonic* è quella di utilizzare il modo più leggibile."
   ]
  },
  {
   "cell_type": "markdown",
   "metadata": {},
   "source": [
    "Possiamo includere anche degli *if* all'interno di una *list comprehension*."
   ]
  },
  {
   "cell_type": "code",
   "execution_count": 58,
   "metadata": {},
   "outputs": [
    {
     "name": "stdout",
     "output_type": "stream",
     "text": [
      "[36, 4, 144]\n"
     ]
    }
   ],
   "source": [
    "even_numbers_squared = [number**2 for number in numbers if number % 2 == 0]\n",
    "print(even_numbers_squared)"
   ]
  },
  {
   "cell_type": "markdown",
   "metadata": {},
   "source": [
    ">**DA SAPERE**: in una *list comprehension*, se l'*if statement* non include uno o più *else* dobbiamo specificarli prima del *for loop*. In caso contrario dobbiamo specificare l*if* dopo il *for loop* come nell'esempio precedente."
   ]
  },
  {
   "cell_type": "code",
   "execution_count": 59,
   "metadata": {},
   "outputs": [
    {
     "name": "stdout",
     "output_type": "stream",
     "text": [
      "[36, 0, 0, 4, 0, 0, 0, 0, 144]\n"
     ]
    }
   ],
   "source": [
    "even_numbers_squared_2 = [number**2 if number % 2 == 0 else 0 for number in numbers]\n",
    "print(even_numbers_squared_2)"
   ]
  },
  {
   "cell_type": "markdown",
   "metadata": {},
   "source": [
    "All'interno di una *list comprehension* la sintassi da utilizzare per un *if statement* a più rami è leggermente diversa da quella che utilizzeremmo in un normale blocco *if*:"
   ]
  },
  {
   "cell_type": "code",
   "execution_count": 60,
   "metadata": {},
   "outputs": [
    {
     "name": "stdout",
     "output_type": "stream",
     "text": [
      "['< 10', '< 10', '< 10', '< 10', '< 10', '< 10', '< 10', '< 10', '< 10', '< 10', '[10-15]', '[10-15]', '[10-15]', '[10-15]', '[10-15]', '> 15', '> 15', '> 15', '> 15', '> 15']\n"
     ]
    }
   ],
   "source": [
    "range_1 = range(20)\n",
    "binning = ['< 10' if number < 10 else '[10-15]' if number < 15 else '> 15' for number in range(20)]\n",
    "print(binning)"
   ]
  },
  {
   "cell_type": "markdown",
   "metadata": {},
   "source": [
    "Possiamo anche utilizzare più di un *for loop* (*nested for loops*) all'interno di una *list comprehension*.\n",
    "\n",
    ">**DA SAPERE**: se utilizziamo un *nested for loop* all'interno di una list comprehension dobbiamo mettere per ultimo "
   ]
  },
  {
   "cell_type": "code",
   "execution_count": 61,
   "metadata": {},
   "outputs": [
    {
     "name": "stdout",
     "output_type": "stream",
     "text": [
      "[6, 3, 15, 2, 1, 7, 9, 23, 12, 12, 6, 30, 4, 2, 14, 18, 46, 24]\n"
     ]
    }
   ],
   "source": [
    "numbers_2 = [1, 2]\n",
    "\n",
    "dot_product = [number*number_2 for number_2 in numbers_2 for number in numbers]\n",
    "\n",
    "print(dot_product)"
   ]
  },
  {
   "cell_type": "markdown",
   "metadata": {},
   "source": [
    "Nonostante la grande flessibilità offerta dalle *list comprehension*, è bene ricordare che una delle loro finalità principali è semplificare il nostro codice e migliorarne la leggibilità. Quindi, se ci accorgiamo di stare svolgendo diversi *for* e *if* all'interno di una sola *list comprehension*, forse è il caso di chiederci se non sia il caso di utilizzare dei normali *for* e *if* per avere un codice più ordinato e leggibile."
   ]
  },
  {
   "cell_type": "markdown",
   "metadata": {},
   "source": [
    "Esistono altri 3 tipi di *comprehension*, che seguono le stesse regole di sintassi viste per le *list comprehension*:"
   ]
  },
  {
   "cell_type": "markdown",
   "metadata": {},
   "source": [
    "- *Set comprehension*: restituisce un oggetto di tipo *set*."
   ]
  },
  {
   "cell_type": "code",
   "execution_count": 62,
   "metadata": {},
   "outputs": [
    {
     "name": "stdout",
     "output_type": "stream",
     "text": [
      "{2, 12, 6}\n"
     ]
    }
   ],
   "source": [
    "even_numbers_set = {number for number in numbers if number % 2 == 0}\n",
    "print(even_numbers_set)"
   ]
  },
  {
   "cell_type": "markdown",
   "metadata": {},
   "source": [
    "- *Dict comprehension*: restituisce un dizionario. Nella maggior parte dei casi, per creare un dizionario da una *dict comprehension* occorre utilizzare l'*unpacking*."
   ]
  },
  {
   "cell_type": "code",
   "execution_count": 63,
   "metadata": {},
   "outputs": [
    {
     "name": "stdout",
     "output_type": "stream",
     "text": [
      "{'zero': 0, 'one': 1, 'two': 2, 'three': 3, 'four': 4}\n",
      "\n",
      "\n",
      "{'zero': 0, 'two': 2, 'four': 4}\n"
     ]
    }
   ],
   "source": [
    "numbers = range(5)\n",
    "nums_as_words = ['zero', 'one', 'two', 'three', 'four']\n",
    "\n",
    "#esempio 1\n",
    "words_to_num = {word : number for word, number in zip(nums_as_words, numbers)}\n",
    "print(words_to_num)\n",
    "print('\\n')\n",
    "\n",
    "#esempio 2\n",
    "words_to_num_even = {word : number for word, number in zip(nums_as_words, numbers) if number % 2 == 0}\n",
    "print(words_to_num_even)"
   ]
  },
  {
   "cell_type": "code",
   "execution_count": null,
   "metadata": {},
   "outputs": [],
   "source": []
  }
 ],
 "metadata": {
  "kernelspec": {
   "display_name": "Python 3",
   "language": "python",
   "name": "python3"
  },
  "language_info": {
   "codemirror_mode": {
    "name": "ipython",
    "version": 3
   },
   "file_extension": ".py",
   "mimetype": "text/x-python",
   "name": "python",
   "nbconvert_exporter": "python",
   "pygments_lexer": "ipython3",
   "version": "3.7.4"
  }
 },
 "nbformat": 4,
 "nbformat_minor": 2
}
