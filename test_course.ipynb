{
  "nbformat": 4,
  "nbformat_minor": 0,
  "metadata": {
    "colab": {
      "name": "Untitled1.ipynb",
      "provenance": [],
      "authorship_tag": "ABX9TyNSN6St7Ih62j9lP7q+ER6B",
      "include_colab_link": true
    },
    "kernelspec": {
      "name": "python3",
      "display_name": "Python 3"
    },
    "language_info": {
      "name": "python"
    }
  },
  "cells": [
    {
      "cell_type": "markdown",
      "metadata": {
        "id": "view-in-github",
        "colab_type": "text"
      },
      "source": [
        "<a href=\"https://colab.research.google.com/github/lucadann/Python_course/blob/master/test_course.ipynb\" target=\"_parent\"><img src=\"https://colab.research.google.com/assets/colab-badge.svg\" alt=\"Open In Colab\"/></a>"
      ]
    },
    {
      "cell_type": "markdown",
      "metadata": {
        "id": "wqCXt9pTZTsl"
      },
      "source": [
        "# Test Python course"
      ]
    },
    {
      "cell_type": "code",
      "metadata": {
        "colab": {
          "base_uri": "https://localhost:8080/"
        },
        "id": "Nigj6MIDZahQ",
        "outputId": "1b47cdfd-fb19-49e0-b8a1-d867393e9168"
      },
      "source": [
        "print('Hello world!')"
      ],
      "execution_count": 1,
      "outputs": [
        {
          "output_type": "stream",
          "text": [
            "Hello world!\n"
          ],
          "name": "stdout"
        }
      ]
    },
    {
      "cell_type": "markdown",
      "metadata": {
        "id": "mnWvsRi_Zehk"
      },
      "source": [
        "## Try importing external packages"
      ]
    },
    {
      "cell_type": "code",
      "metadata": {
        "id": "KcHQZ8UMZpts"
      },
      "source": [
        "import numpy as np\n",
        "from sklearn.metrics import roc_auc_score\n",
        "from matplotlib import pyplot as plt"
      ],
      "execution_count": 2,
      "outputs": []
    },
    {
      "cell_type": "markdown",
      "metadata": {
        "id": "_zaKqWksbNQh"
      },
      "source": [
        "## Run simple univariate statistic"
      ]
    },
    {
      "cell_type": "code",
      "metadata": {
        "colab": {
          "base_uri": "https://localhost:8080/"
        },
        "id": "NSS_uwefZzcX",
        "outputId": "f910c260-598f-4f43-8447-e90fc21226a1"
      },
      "source": [
        "np.random.normal()"
      ],
      "execution_count": 3,
      "outputs": [
        {
          "output_type": "execute_result",
          "data": {
            "text/plain": [
              "-0.21486107365957938"
            ]
          },
          "metadata": {
            "tags": []
          },
          "execution_count": 3
        }
      ]
    },
    {
      "cell_type": "code",
      "metadata": {
        "id": "hopZt2wqZ31t"
      },
      "source": [
        "dependent = np.random.binomial(1, p=0.1, size=1000)"
      ],
      "execution_count": 4,
      "outputs": []
    },
    {
      "cell_type": "code",
      "metadata": {
        "id": "Lk1IL6IwaF6Z"
      },
      "source": [
        "independent = dependent + np.random.normal(0, 2, len(dependent))"
      ],
      "execution_count": 8,
      "outputs": []
    },
    {
      "cell_type": "code",
      "metadata": {
        "colab": {
          "base_uri": "https://localhost:8080/",
          "height": 265
        },
        "id": "RWLxQQ2OalRf",
        "outputId": "0f5e7afb-6e26-4508-d958-7f952c135be9"
      },
      "source": [
        "plt.scatter(independent, dependent)\n",
        "plt.show()"
      ],
      "execution_count": 10,
      "outputs": [
        {
          "output_type": "display_data",
          "data": {
            "image/png": "[encoded data removed]",
            "text/plain": [
              "<Figure size 432x288 with 1 Axes>"
            ]
          },
          "metadata": {
            "tags": [],
            "needs_background": "light"
          }
        }
      ]
    },
    {
      "cell_type": "code",
      "metadata": {
        "id": "iG9L1AN4arOA"
      },
      "source": [
        "GINI = 2*roc_auc_score(dependent, independent) - 1"
      ],
      "execution_count": 14,
      "outputs": []
    },
    {
      "cell_type": "code",
      "metadata": {
        "colab": {
          "base_uri": "https://localhost:8080/"
        },
        "id": "Odq8vxiXa42e",
        "outputId": "22bdfe53-0cdd-4f3e-ba2c-b7ec47e9c704"
      },
      "source": [
        "print(GINI)"
      ],
      "execution_count": 15,
      "outputs": [
        {
          "output_type": "stream",
          "text": [
            "0.3280808835741571\n"
          ],
          "name": "stdout"
        }
      ]
    }
  ]
}